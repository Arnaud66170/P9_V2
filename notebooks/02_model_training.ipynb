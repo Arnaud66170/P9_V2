{
 "cells": [
  {
   "cell_type": "markdown",
   "id": "26c89a57",
   "metadata": {},
   "source": [
    "# 02_model_training.ipynb\n",
    "## Entraînement & évaluation des modèles P7 (LogReg, DistilBERT)\n",
    "# 1 - Imports & configuration"
   ]
  },
  {
   "cell_type": "code",
   "execution_count": 1,
   "id": "ccf339d8",
   "metadata": {},
   "outputs": [],
   "source": [
    "import os\n",
    "import sys\n",
    "import pandas as pd\n",
    "import mlflow\n",
    "import torch\n",
    "import matplotlib.pyplot as plt\n",
    "from sklearn.metrics import accuracy_score, f1_score, confusion_matrix, ConfusionMatrixDisplay\n",
    "from sklearn.model_selection import train_test_split\n",
    "from sklearn.linear_model import LogisticRegression\n",
    "import joblib"
   ]
  },
  {
   "cell_type": "code",
   "execution_count": 2,
   "id": "2794eeeb",
   "metadata": {},
   "outputs": [],
   "source": [
    "project_root = os.path.abspath('..')\n",
    "if project_root not in sys.path:\n",
    "    sys.path.insert(0, project_root)"
   ]
  },
  {
   "cell_type": "code",
   "execution_count": 3,
   "id": "3ba68768",
   "metadata": {},
   "outputs": [
    {
     "name": "stderr",
     "output_type": "stream",
     "text": [
      "c:\\Users\\motar\\Desktop\\1-openclassrooms\\AI_Engineer\\1-projets\\P09\\P9_V2\\venv_P9_V2\\lib\\site-packages\\tqdm\\auto.py:21: TqdmWarning: IProgress not found. Please update jupyter and ipywidgets. See https://ipywidgets.readthedocs.io/en/stable/user_install.html\n",
      "  from .autonotebook import tqdm as notebook_tqdm\n"
     ]
    }
   ],
   "source": [
    "from src.utils.load_models_from_p7 import load_logreg_model, load_distilbert_model\n",
    "from src.utils.text_utils import prepare_for_vectorization\n",
    "from transformers import TextClassificationPipeline\n",
    "from src.utils.vectorizer_utils import load_tfidf_vectorizer, vectorize_data, train_and_save_tfidf\n",
    "from src.model_training import train_logreg_pipeline"
   ]
  },
  {
   "cell_type": "code",
   "execution_count": 4,
   "id": "276d5f52",
   "metadata": {},
   "outputs": [],
   "source": [
    "# Bloc de vérification GPU\n",
    "from src.utils.device_utils import check_gpu"
   ]
  },
  {
   "cell_type": "code",
   "execution_count": 5,
   "id": "2de37879",
   "metadata": {},
   "outputs": [
    {
     "name": "stdout",
     "output_type": "stream",
     "text": [
      "🔍 Vérification GPU (torch, tensorflow, nvidia-smi)...\n",
      "✅ torch.cuda : NVIDIA GeForce GTX 1060 6GB (CUDA 11.8)\n",
      "✅ TensorFlow : /physical_device:GPU:0 (CUDA 64_112, cuDNN 64_8)\n",
      "✅ nvidia-smi : disponible\n",
      "| NVIDIA-SMI 560.94                 Driver Version: 560.94         CUDA Version: 12.6     |\n"
     ]
    }
   ],
   "source": [
    "device = check_gpu()"
   ]
  },
  {
   "cell_type": "markdown",
   "id": "5648f5f7",
   "metadata": {},
   "source": [
    "# 2 - Chargement des données nettoyées"
   ]
  },
  {
   "cell_type": "code",
   "execution_count": 6,
   "id": "7e8e163f",
   "metadata": {},
   "outputs": [
    {
     "data": {
      "text/html": [
       "<div>\n",
       "<style scoped>\n",
       "    .dataframe tbody tr th:only-of-type {\n",
       "        vertical-align: middle;\n",
       "    }\n",
       "\n",
       "    .dataframe tbody tr th {\n",
       "        vertical-align: top;\n",
       "    }\n",
       "\n",
       "    .dataframe thead th {\n",
       "        text-align: right;\n",
       "    }\n",
       "</style>\n",
       "<table border=\"1\" class=\"dataframe\">\n",
       "  <thead>\n",
       "    <tr style=\"text-align: right;\">\n",
       "      <th></th>\n",
       "      <th>label</th>\n",
       "      <th>text</th>\n",
       "    </tr>\n",
       "  </thead>\n",
       "  <tbody>\n",
       "    <tr>\n",
       "      <th>0</th>\n",
       "      <td>0</td>\n",
       "      <td>oh no where did u order from thats horrible</td>\n",
       "    </tr>\n",
       "    <tr>\n",
       "      <th>1</th>\n",
       "      <td>0</td>\n",
       "      <td>a great hard training weekend is over a couple...</td>\n",
       "    </tr>\n",
       "    <tr>\n",
       "      <th>2</th>\n",
       "      <td>0</td>\n",
       "      <td>right off to work only hours to go until im fr...</td>\n",
       "    </tr>\n",
       "    <tr>\n",
       "      <th>3</th>\n",
       "      <td>0</td>\n",
       "      <td>i am craving for japanese food</td>\n",
       "    </tr>\n",
       "    <tr>\n",
       "      <th>4</th>\n",
       "      <td>0</td>\n",
       "      <td>jean michel jarre concert tomorrow gotta work ...</td>\n",
       "    </tr>\n",
       "  </tbody>\n",
       "</table>\n",
       "</div>"
      ],
      "text/plain": [
       "   label                                               text\n",
       "0      0        oh no where did u order from thats horrible\n",
       "1      0  a great hard training weekend is over a couple...\n",
       "2      0  right off to work only hours to go until im fr...\n",
       "3      0                     i am craving for japanese food\n",
       "4      0  jean michel jarre concert tomorrow gotta work ..."
      ]
     },
     "execution_count": 6,
     "metadata": {},
     "output_type": "execute_result"
    }
   ],
   "source": [
    "clean_path = '../data/processed/tweets_cleaned.csv'\n",
    "\n",
    "df = pd.read_csv(clean_path)\n",
    "df = df[['label', 'text']]\n",
    "df.head()"
   ]
  },
  {
   "cell_type": "markdown",
   "id": "9801eeb2",
   "metadata": {},
   "source": [
    "# 3 - Préparation du jeu de test"
   ]
  },
  {
   "cell_type": "code",
   "execution_count": 7,
   "id": "57d9b740",
   "metadata": {},
   "outputs": [],
   "source": [
    "X_train, X_test, y_train, y_test = train_test_split(df['text'], df['label'], test_size = 0.2, stratify = df['label'], random_state = 70)"
   ]
  },
  {
   "cell_type": "markdown",
   "id": "26a65f68",
   "metadata": {},
   "source": [
    "# 4 - LogReg + TF-IDF : Prédiction & évaluation"
   ]
  },
  {
   "cell_type": "code",
   "execution_count": 8,
   "id": "a9173046",
   "metadata": {},
   "outputs": [],
   "source": [
    "model_dir = \"../models/logreg_model\"\n",
    "logreg_model, acc_logreg, f1_logreg = train_logreg_pipeline(\n",
    "    X_train, y_train,\n",
    "    X_test, y_test,\n",
    "    model_dir = model_dir,\n",
    "    run_name = \"logreg_imported\",\n",
    "    force_retrain = False,\n",
    "    log_to_mlflow = True\n",
    ")"
   ]
  },
  {
   "cell_type": "markdown",
   "id": "b928b61f",
   "metadata": {},
   "source": [
    "# 5 - DistilBERT fine-tuné : Prédiction & évaluation"
   ]
  },
  {
   "cell_type": "code",
   "execution_count": 9,
   "id": "165b54d5",
   "metadata": {},
   "outputs": [
    {
     "name": "stderr",
     "output_type": "stream",
     "text": [
      "c:\\Users\\motar\\Desktop\\1-openclassrooms\\AI_Engineer\\1-projets\\P09\\P9_V2\\venv_P9_V2\\lib\\site-packages\\huggingface_hub\\file_download.py:943: FutureWarning: `resume_download` is deprecated and will be removed in version 1.0.0. Downloads always resume when possible. If you want to force a new download, use `force_download=True`.\n",
      "  warnings.warn(\n"
     ]
    },
    {
     "name": "stdout",
     "output_type": "stream",
     "text": [
      "✅ Modèle DistilBERT fine-tuné chargé avec succès.\n"
     ]
    }
   ],
   "source": [
    "distilbert_model, distilbert_tokenizer = load_distilbert_model(\"../models_from_P7/distilbert_model\")"
   ]
  },
  {
   "cell_type": "code",
   "execution_count": 10,
   "id": "96aba30a",
   "metadata": {},
   "outputs": [
    {
     "name": "stderr",
     "output_type": "stream",
     "text": [
      "c:\\Users\\motar\\Desktop\\1-openclassrooms\\AI_Engineer\\1-projets\\P09\\P9_V2\\venv_P9_V2\\lib\\site-packages\\transformers\\pipelines\\text_classification.py:104: UserWarning: `return_all_scores` is now deprecated,  if want a similar functionality use `top_k=None` instead of `return_all_scores=True` or `top_k=1` instead of `return_all_scores=False`.\n",
      "  warnings.warn(\n"
     ]
    }
   ],
   "source": [
    "pipeline = TextClassificationPipeline(model = distilbert_model, tokenizer = distilbert_tokenizer, return_all_scores = False, device = 0 if torch.cuda.is_available() else -1)"
   ]
  },
  {
   "cell_type": "markdown",
   "id": "6d1c18e8",
   "metadata": {},
   "source": [
    "## 5.1 - Pour accélérer : prédiction sur les 2000 premiers tweets"
   ]
  },
  {
   "cell_type": "code",
   "execution_count": 11,
   "id": "56821ee3",
   "metadata": {},
   "outputs": [],
   "source": [
    "X_test_cleaned = X_test.fillna(\"\").astype(str)\n",
    "texts_for_bert = X_test_cleaned.tolist()[:2000]\n",
    "y_pred_distilbert = [int(pred['label'][-1]) for pred in pipeline(texts_for_bert)]\n",
    "y_true_short = y_test.iloc[:2000].tolist()"
   ]
  },
  {
   "cell_type": "code",
   "execution_count": 12,
   "id": "813c16fb",
   "metadata": {},
   "outputs": [],
   "source": [
    "acc_distilbert = accuracy_score(y_true_short, y_pred_distilbert)\n",
    "f1_distilbert = f1_score(y_true_short, y_pred_distilbert)"
   ]
  },
  {
   "cell_type": "code",
   "execution_count": 13,
   "id": "cd2cf44b",
   "metadata": {},
   "outputs": [
    {
     "name": "stdout",
     "output_type": "stream",
     "text": [
      "DistilBERT - Accuracy: 0.8145 | F1-score: 0.8196\n"
     ]
    }
   ],
   "source": [
    "print(f\"DistilBERT - Accuracy: {acc_distilbert:.4f} | F1-score: {f1_distilbert:.4f}\")"
   ]
  },
  {
   "cell_type": "markdown",
   "id": "20224c9b",
   "metadata": {},
   "source": [
    "# 6 - Tableau récapitulatif"
   ]
  },
  {
   "cell_type": "code",
   "execution_count": 14,
   "id": "11c60e9a",
   "metadata": {},
   "outputs": [],
   "source": [
    "results_df = pd.DataFrame({\n",
    "    \"Modèle\": [\"TF-IDF + LogReg\", \"DistilBERT fine-tuné\"],\n",
    "    \"Accuracy\": [acc_logreg, acc_distilbert],\n",
    "    \"F1-score\": [f1_logreg, f1_distilbert]\n",
    "})"
   ]
  },
  {
   "cell_type": "code",
   "execution_count": 15,
   "id": "1c68abe9",
   "metadata": {},
   "outputs": [
    {
     "data": {
      "text/html": [
       "<div>\n",
       "<style scoped>\n",
       "    .dataframe tbody tr th:only-of-type {\n",
       "        vertical-align: middle;\n",
       "    }\n",
       "\n",
       "    .dataframe tbody tr th {\n",
       "        vertical-align: top;\n",
       "    }\n",
       "\n",
       "    .dataframe thead th {\n",
       "        text-align: right;\n",
       "    }\n",
       "</style>\n",
       "<table border=\"1\" class=\"dataframe\">\n",
       "  <thead>\n",
       "    <tr style=\"text-align: right;\">\n",
       "      <th></th>\n",
       "      <th>Modèle</th>\n",
       "      <th>Accuracy</th>\n",
       "      <th>F1-score</th>\n",
       "    </tr>\n",
       "  </thead>\n",
       "  <tbody>\n",
       "    <tr>\n",
       "      <th>0</th>\n",
       "      <td>TF-IDF + LogReg</td>\n",
       "      <td>0.78035</td>\n",
       "      <td>0.783201</td>\n",
       "    </tr>\n",
       "    <tr>\n",
       "      <th>1</th>\n",
       "      <td>DistilBERT fine-tuné</td>\n",
       "      <td>0.81450</td>\n",
       "      <td>0.819640</td>\n",
       "    </tr>\n",
       "  </tbody>\n",
       "</table>\n",
       "</div>"
      ],
      "text/plain": [
       "                 Modèle  Accuracy  F1-score\n",
       "0       TF-IDF + LogReg   0.78035  0.783201\n",
       "1  DistilBERT fine-tuné   0.81450  0.819640"
      ]
     },
     "execution_count": 15,
     "metadata": {},
     "output_type": "execute_result"
    }
   ],
   "source": [
    "results_df.to_csv(\"../results/model_scores_logreg_vs_distilbert.csv\", index=False)\n",
    "results_df"
   ]
  },
  {
   "cell_type": "markdown",
   "id": "c063f69f",
   "metadata": {},
   "source": [
    "# 7 - Tracking MLflow\n",
    "## 7.1 - DistilBERT fine-tuné\n",
    "- TF-IDF + reglog inutile car log déjà dans train_logreg_pipeline"
   ]
  },
  {
   "cell_type": "code",
   "execution_count": 16,
   "id": "d67f0cd6",
   "metadata": {},
   "outputs": [],
   "source": [
    "with mlflow.start_run(run_name=\"distilbert_imported\"):\n",
    "    mlflow.set_tag(\"source\", \"imported_from_P7\")\n",
    "    mlflow.log_param(\"model\", \"distilbert\")\n",
    "    mlflow.log_param(\"tokenizer\", \"distilbert-base-uncased\")\n",
    "    mlflow.log_param(\"dataset\", \"tweets_cleaned.csv\")\n",
    "    mlflow.log_metric(\"accuracy\", acc_distilbert)\n",
    "    mlflow.log_metric(\"f1_score\", f1_distilbert)"
   ]
  },
  {
   "cell_type": "markdown",
   "id": "b92ec615",
   "metadata": {},
   "source": [
    "# 8 - Visualisations et analyse comparative\n",
    "## 8.1 - Matrice de confusion (LogReg + DistilBERT)\n",
    "### 8.1.1 - LogReg"
   ]
  },
  {
   "cell_type": "code",
   "execution_count": 17,
   "id": "e9988d94",
   "metadata": {},
   "outputs": [
    {
     "data": {
      "image/png": "[encoded data removed]",
      "text/plain": [
       "<Figure size 640x480 with 2 Axes>"
      ]
     },
     "metadata": {},
     "output_type": "display_data"
    }
   ],
   "source": [
    "# Chargement du vectoriseur\n",
    "vectorizer_path = os.path.join(model_dir, \"tfidf_vectorizer.joblib\")\n",
    "tfidf_vectorizer = joblib.load(vectorizer_path)\n",
    "\n",
    "# Vectorisation des données de test\n",
    "X_test_vec = vectorize_data(tfidf_vectorizer, X_test)\n",
    "\n",
    "# Prédiction\n",
    "y_pred_logreg = logreg_model.predict(X_test_vec)\n",
    "\n",
    "# Matrice de confusion\n",
    "cm_logreg = confusion_matrix(y_test, y_pred_logreg)\n",
    "disp_logreg = ConfusionMatrixDisplay(confusion_matrix = cm_logreg, display_labels = [\"Négatif\", \"Positif\"])\n",
    "disp_logreg.plot(cmap = 'Blues')\n",
    "plt.title(\"LogReg - Matrice de confusion\")\n",
    "plt.show()"
   ]
  },
  {
   "cell_type": "markdown",
   "id": "61ad8316",
   "metadata": {},
   "source": [
    "### 8.1.2 - DistilBERT"
   ]
  },
  {
   "cell_type": "code",
   "execution_count": 18,
   "id": "fa88c6d6",
   "metadata": {},
   "outputs": [
    {
     "data": {
      "image/png": "[encoded data removed]",
      "text/plain": [
       "<Figure size 640x480 with 2 Axes>"
      ]
     },
     "metadata": {},
     "output_type": "display_data"
    }
   ],
   "source": [
    "cm_distilbert = confusion_matrix(y_true_short, y_pred_distilbert)\n",
    "disp_distilbert = ConfusionMatrixDisplay(confusion_matrix=cm_distilbert, display_labels=[\"Négatif\", \"Positif\"])\n",
    "disp_distilbert.plot(cmap='Oranges')\n",
    "plt.title(\"DistilBERT - Matrice de confusion\")\n",
    "plt.show()"
   ]
  },
  {
   "cell_type": "markdown",
   "id": "70d1f444",
   "metadata": {},
   "source": [
    "## 8.2 - Courbe barplot comparative Accuracy / F1"
   ]
  },
  {
   "cell_type": "code",
   "execution_count": 19,
   "id": "57b56d67",
   "metadata": {},
   "outputs": [
    {
     "data": {
      "image/png": "[encoded data removed]",
      "text/plain": [
       "<Figure size 600x400 with 1 Axes>"
      ]
     },
     "metadata": {},
     "output_type": "display_data"
    }
   ],
   "source": [
    "results_df.plot(x=\"Modèle\", kind=\"bar\", rot=0, figsize=(6, 4))\n",
    "plt.title(\"Comparaison des modèles\")\n",
    "plt.ylim(0.7, 1)\n",
    "plt.ylabel(\"Score\")\n",
    "plt.legend(loc='lower right')\n",
    "plt.grid(axis='y')\n",
    "plt.tight_layout()\n",
    "plt.show()"
   ]
  },
  {
   "cell_type": "markdown",
   "id": "f5cd1ea7",
   "metadata": {},
   "source": [
    "## 8.3 - Description des résultats\n",
    "- Récapitulatif :\n",
    "    - TF-IDF + LogReg : Accuracy = {acc_logreg:.4f}, F1-score = {f1_logreg:.4f}\n",
    "    - DistilBERT      : Accuracy = {acc_distilbert:.4f}, F1-score = {f1_distilbert:.4f}\n",
    "- DistilBERT offre de meilleures performances, mais au prix d’un poids plus élevé et d’une latence accrue.\n",
    "- LogReg reste plus léger et parfaitement déployable sur CPU, ce qui en fait une bonne baseline.\n",
    "## 8.4 - Sauvegarde des prédictions"
   ]
  },
  {
   "cell_type": "code",
   "execution_count": 20,
   "id": "32edd764",
   "metadata": {},
   "outputs": [],
   "source": [
    "pd.DataFrame({\n",
    "    \"tweet\": X_test.iloc[:2000].values,\n",
    "    \"true_label\": y_true_short,\n",
    "    \"pred_distilbert\": y_pred_distilbert\n",
    "}).to_csv(\"../results/distilbert_predictions_sample.csv\", index=False)"
   ]
  }
 ],
 "metadata": {
  "kernelspec": {
   "display_name": "venv_P9_V2",
   "language": "python",
   "name": "python3"
  },
  "language_info": {
   "codemirror_mode": {
    "name": "ipython",
    "version": 3
   },
   "file_extension": ".py",
   "mimetype": "text/x-python",
   "name": "python",
   "nbconvert_exporter": "python",
   "pygments_lexer": "ipython3",
   "version": "3.10.11"
  }
 },
 "nbformat": 4,
 "nbformat_minor": 5
}
