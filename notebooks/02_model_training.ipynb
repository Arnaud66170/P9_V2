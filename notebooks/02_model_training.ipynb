{
 "cells": [
  {
   "cell_type": "markdown",
   "id": "26c89a57",
   "metadata": {},
   "source": [
    "# 02_model_training.ipynb\n",
    "## Entraînement & évaluation des modèles P7 (LogReg, DistilBERT)\n",
    "# 1 - Imports & configuration"
   ]
  },
  {
   "cell_type": "code",
   "execution_count": 1,
   "id": "ccf339d8",
   "metadata": {},
   "outputs": [],
   "source": [
    "import os\n",
    "import sys\n",
    "import pandas as pd\n",
    "import mlflow\n",
    "import torch\n",
    "import matplotlib.pyplot as plt\n",
    "from sklearn.metrics import accuracy_score, f1_score, confusion_matrix, ConfusionMatrixDisplay\n",
    "from sklearn.model_selection import train_test_split\n",
    "from sklearn.linear_model import LogisticRegression\n",
    "import joblib"
   ]
  },
  {
   "cell_type": "code",
   "execution_count": 2,
   "id": "2794eeeb",
   "metadata": {},
   "outputs": [],
   "source": [
    "project_root = os.path.abspath('..')\n",
    "if project_root not in sys.path:\n",
    "    sys.path.insert(0, project_root)"
   ]
  },
  {
   "cell_type": "code",
   "execution_count": 3,
   "id": "3ba68768",
   "metadata": {},
   "outputs": [
    {
     "name": "stderr",
     "output_type": "stream",
     "text": [
      "c:\\Users\\motar\\Desktop\\1-openclassrooms\\AI_Engineer\\1-projets\\P09\\P9_V2\\venv_P9_V2\\lib\\site-packages\\tqdm\\auto.py:21: TqdmWarning: IProgress not found. Please update jupyter and ipywidgets. See https://ipywidgets.readthedocs.io/en/stable/user_install.html\n",
      "  from .autonotebook import tqdm as notebook_tqdm\n",
      "W0516 09:03:22.719000 17464 venv_P9_V2\\Lib\\site-packages\\torch\\distributed\\elastic\\multiprocessing\\redirects.py:29] NOTE: Redirects are currently not supported in Windows or MacOs.\n"
     ]
    }
   ],
   "source": [
    "from src.utils.load_models_from_p7 import load_logreg_model\n",
    "from src.utils.text_utils import prepare_for_vectorization\n",
    "from transformers import TextClassificationPipeline\n",
    "from src.utils.vectorizer_utils import load_tfidf_vectorizer, vectorize_data, train_and_save_tfidf\n",
    "from src.model_training import train_logreg_pipeline"
   ]
  },
  {
   "cell_type": "code",
   "execution_count": 4,
   "id": "276d5f52",
   "metadata": {},
   "outputs": [],
   "source": [
    "# Bloc de vérification GPU\n",
    "from src.utils.device_utils import check_gpu"
   ]
  },
  {
   "cell_type": "code",
   "execution_count": 5,
   "id": "2de37879",
   "metadata": {},
   "outputs": [
    {
     "name": "stdout",
     "output_type": "stream",
     "text": [
      "🔍 Vérification GPU (torch, tensorflow, nvidia-smi)...\n",
      "❌ torch.cuda : Aucun GPU détecté\n",
      "✅ TensorFlow : /physical_device:GPU:0 (CUDA 64_112, cuDNN 64_8)\n",
      "✅ nvidia-smi : disponible\n",
      "| NVIDIA-SMI 560.94                 Driver Version: 560.94         CUDA Version: 12.6     |\n"
     ]
    }
   ],
   "source": [
    "device = check_gpu()"
   ]
  },
  {
   "cell_type": "markdown",
   "id": "5648f5f7",
   "metadata": {},
   "source": [
    "# 2 - Chargement des données nettoyées"
   ]
  },
  {
   "cell_type": "code",
   "execution_count": 6,
   "id": "7e8e163f",
   "metadata": {},
   "outputs": [
    {
     "data": {
      "text/html": [
       "<div>\n",
       "<style scoped>\n",
       "    .dataframe tbody tr th:only-of-type {\n",
       "        vertical-align: middle;\n",
       "    }\n",
       "\n",
       "    .dataframe tbody tr th {\n",
       "        vertical-align: top;\n",
       "    }\n",
       "\n",
       "    .dataframe thead th {\n",
       "        text-align: right;\n",
       "    }\n",
       "</style>\n",
       "<table border=\"1\" class=\"dataframe\">\n",
       "  <thead>\n",
       "    <tr style=\"text-align: right;\">\n",
       "      <th></th>\n",
       "      <th>label</th>\n",
       "      <th>text</th>\n",
       "    </tr>\n",
       "  </thead>\n",
       "  <tbody>\n",
       "    <tr>\n",
       "      <th>0</th>\n",
       "      <td>0</td>\n",
       "      <td>oh no where did u order from thats horrible</td>\n",
       "    </tr>\n",
       "    <tr>\n",
       "      <th>1</th>\n",
       "      <td>0</td>\n",
       "      <td>a great hard training weekend is over a couple...</td>\n",
       "    </tr>\n",
       "    <tr>\n",
       "      <th>2</th>\n",
       "      <td>0</td>\n",
       "      <td>right off to work only hours to go until im fr...</td>\n",
       "    </tr>\n",
       "    <tr>\n",
       "      <th>3</th>\n",
       "      <td>0</td>\n",
       "      <td>i am craving for japanese food</td>\n",
       "    </tr>\n",
       "    <tr>\n",
       "      <th>4</th>\n",
       "      <td>0</td>\n",
       "      <td>jean michel jarre concert tomorrow gotta work ...</td>\n",
       "    </tr>\n",
       "  </tbody>\n",
       "</table>\n",
       "</div>"
      ],
      "text/plain": [
       "   label                                               text\n",
       "0      0        oh no where did u order from thats horrible\n",
       "1      0  a great hard training weekend is over a couple...\n",
       "2      0  right off to work only hours to go until im fr...\n",
       "3      0                     i am craving for japanese food\n",
       "4      0  jean michel jarre concert tomorrow gotta work ..."
      ]
     },
     "execution_count": 6,
     "metadata": {},
     "output_type": "execute_result"
    }
   ],
   "source": [
    "clean_path = '../data/processed/tweets_cleaned.csv'\n",
    "\n",
    "df = pd.read_csv(clean_path)\n",
    "df = df[['label', 'text']]\n",
    "df.head()"
   ]
  },
  {
   "cell_type": "markdown",
   "id": "9801eeb2",
   "metadata": {},
   "source": [
    "# 3 - Préparation du jeu de test"
   ]
  },
  {
   "cell_type": "code",
   "execution_count": 7,
   "id": "57d9b740",
   "metadata": {},
   "outputs": [],
   "source": [
    "X_train, X_test, y_train, y_test = train_test_split(df['text'], df['label'], test_size = 0.2, stratify = df['label'], random_state = 70)"
   ]
  },
  {
   "cell_type": "markdown",
   "id": "26a65f68",
   "metadata": {},
   "source": [
    "# 4 - LogReg + TF-IDF : Prédiction & évaluation"
   ]
  },
  {
   "cell_type": "code",
   "execution_count": 8,
   "id": "a9173046",
   "metadata": {},
   "outputs": [],
   "source": [
    "model_dir = \"../models/logreg_model\"\n",
    "logreg_model, acc_logreg, f1_logreg = train_logreg_pipeline(\n",
    "    X_train, y_train,\n",
    "    X_test, y_test,\n",
    "    model_dir = model_dir,\n",
    "    run_name = \"logreg_imported\",\n",
    "    force_retrain = False,\n",
    "    log_to_mlflow = True\n",
    ")"
   ]
  },
  {
   "cell_type": "markdown",
   "id": "20224c9b",
   "metadata": {},
   "source": [
    "# 5 - Matrice de confusion LogReg"
   ]
  },
  {
   "cell_type": "code",
   "execution_count": 9,
   "id": "11c60e9a",
   "metadata": {},
   "outputs": [],
   "source": [
    "vectorizer_path = os.path.join(model_dir, \"tfidf_vectorizer.joblib\")\n",
    "tfidf_vectorizer = joblib.load(vectorizer_path)\n",
    "X_test_vec = vectorize_data(tfidf_vectorizer, X_test)\n",
    "y_pred_logreg = logreg_model.predict(X_test_vec)"
   ]
  },
  {
   "cell_type": "code",
   "execution_count": 10,
   "id": "1c68abe9",
   "metadata": {},
   "outputs": [
    {
     "data": {
      "image/png": "[encoded data removed]",
      "text/plain": [
       "<Figure size 640x480 with 2 Axes>"
      ]
     },
     "metadata": {},
     "output_type": "display_data"
    }
   ],
   "source": [
    "cm_logreg = confusion_matrix(y_test, y_pred_logreg)\n",
    "disp_logreg = ConfusionMatrixDisplay(confusion_matrix = cm_logreg, display_labels = [\"Négatif\", \"Positif\"])\n",
    "disp_logreg.plot(cmap = 'Blues')\n",
    "plt.title(\"LogReg - Matrice de confusion\")\n",
    "plt.show()"
   ]
  },
  {
   "cell_type": "markdown",
   "id": "c063f69f",
   "metadata": {},
   "source": [
    "# 6 - Résultats récapitulatifs"
   ]
  },
  {
   "cell_type": "code",
   "execution_count": 11,
   "id": "d67f0cd6",
   "metadata": {},
   "outputs": [
    {
     "data": {
      "image/png": "[encoded data removed]",
      "text/plain": [
       "<Figure size 600x400 with 1 Axes>"
      ]
     },
     "metadata": {},
     "output_type": "display_data"
    }
   ],
   "source": [
    "results_df = pd.DataFrame({\n",
    "    \"Modèle\": [\"TF-IDF + LogReg\"],\n",
    "    \"Accuracy\": [acc_logreg],\n",
    "    \"F1-score\": [f1_logreg]\n",
    "})\n",
    "\n",
    "results_df.to_csv(\"../results/model_scores_logreg.csv\", index=False)\n",
    "results_df.plot(x=\"Modèle\", kind=\"bar\", rot=0, figsize=(6, 4))\n",
    "plt.title(\"Résultats LogReg\")\n",
    "plt.ylim(0.7, 1)\n",
    "plt.ylabel(\"Score\")\n",
    "plt.grid(axis='y')\n",
    "plt.tight_layout()\n",
    "plt.show()"
   ]
  }
 ],
 "metadata": {
  "kernelspec": {
   "display_name": "venv_P9_V2",
   "language": "python",
   "name": "python3"
  },
  "language_info": {
   "codemirror_mode": {
    "name": "ipython",
    "version": 3
   },
   "file_extension": ".py",
   "mimetype": "text/x-python",
   "name": "python",
   "nbconvert_exporter": "python",
   "pygments_lexer": "ipython3",
   "version": "3.10.11"
  }
 },
 "nbformat": 4,
 "nbformat_minor": 5
}
