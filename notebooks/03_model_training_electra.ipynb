{
 "cells": [
  {
   "cell_type": "markdown",
   "id": "ce4cc311",
   "metadata": {},
   "source": [
    "# 03_model_training_electra.ipynb\n",
    "- Fine-tuning du modèle ELECTRA-Small pour la classification de sentiments sur Twitter\n",
    "# 1 - Imports & configuration"
   ]
  },
  {
   "cell_type": "code",
   "execution_count": 1,
   "id": "b94979cd",
   "metadata": {},
   "outputs": [
    {
     "name": "stderr",
     "output_type": "stream",
     "text": [
      "c:\\Users\\motar\\Desktop\\1-openclassrooms\\AI_Engineer\\1-projets\\P09\\P9_V2\\venv_P9_V2\\lib\\site-packages\\tqdm\\auto.py:21: TqdmWarning: IProgress not found. Please update jupyter and ipywidgets. See https://ipywidgets.readthedocs.io/en/stable/user_install.html\n",
      "  from .autonotebook import tqdm as notebook_tqdm\n",
      "W0516 09:32:33.944000 8308 Lib\\site-packages\\torch\\distributed\\elastic\\multiprocessing\\redirects.py:29] NOTE: Redirects are currently not supported in Windows or MacOs.\n"
     ]
    }
   ],
   "source": [
    "import pandas as pd\n",
    "import torch\n",
    "import matplotlib.pyplot as plt\n",
    "from sklearn.metrics import accuracy_score, f1_score, classification_report, confusion_matrix, ConfusionMatrixDisplay\n",
    "from sklearn.model_selection import train_test_split\n",
    "from transformers import ElectraTokenizerFast, ElectraForSequenceClassification, TextClassificationPipeline\n",
    "\n",
    "import os\n",
    "project_root = os.path.abspath(\"..\")\n",
    "os.chdir(project_root)\n",
    "\n",
    "import sys\n",
    "if project_root not in sys.path:\n",
    "    sys.path.insert(0, project_root)\n",
    "\n",
    "from src.model_training import train_electra_pipeline\n",
    "from src.utils.tracking_utils import log_gpu_info\n",
    "from src.utils.evaluation_utils import evaluate_model_predictions\n",
    "from src.utils.device_utils import check_gpu\n",
    "from src.utils.visualization_utils import plot_confusion_matrix\n",
    "from src.utils.inference_utils import predict_with_electra\n",
    "from src.evaluate import evaluate_classification_metrics"
   ]
  },
  {
   "cell_type": "code",
   "execution_count": 2,
   "id": "d51de4cb",
   "metadata": {},
   "outputs": [
    {
     "name": "stdout",
     "output_type": "stream",
     "text": [
      "Répertoire actif : c:\\Users\\motar\\Desktop\\1-openclassrooms\\AI_Engineer\\1-projets\\P09\\P9_V2\n"
     ]
    }
   ],
   "source": [
    "print(\"Répertoire actif :\", os.getcwd())"
   ]
  },
  {
   "cell_type": "code",
   "execution_count": 3,
   "id": "c6b779fe",
   "metadata": {},
   "outputs": [
    {
     "name": "stdout",
     "output_type": "stream",
     "text": [
      "🔍 Vérification GPU (torch, tensorflow, nvidia-smi)...\n",
      "✅ torch.cuda : NVIDIA GeForce GTX 1060 6GB (CUDA 11.8)\n",
      "✅ TensorFlow : /physical_device:GPU:0 (CUDA 64_112, cuDNN 64_8)\n",
      "✅ nvidia-smi : disponible\n",
      "| NVIDIA-SMI 560.94                 Driver Version: 560.94         CUDA Version: 12.6     |\n"
     ]
    }
   ],
   "source": [
    "device = check_gpu()"
   ]
  },
  {
   "cell_type": "markdown",
   "id": "912b2fe1",
   "metadata": {},
   "source": [
    "# 2 - Chargement des données nettoyées"
   ]
  },
  {
   "cell_type": "code",
   "execution_count": 4,
   "id": "bfce1f37",
   "metadata": {},
   "outputs": [],
   "source": [
    "os.environ[\"CUDA_LAUNCH_BLOCKING\"] = \"1\""
   ]
  },
  {
   "cell_type": "code",
   "execution_count": 5,
   "id": "74fb46ea",
   "metadata": {},
   "outputs": [],
   "source": [
    "file_path = \"data/processed/tweets_cleaned.csv\"\n",
    "if not os.path.exists(file_path):\n",
    "    raise FileNotFoundError(f\"Fichier introuvable : {file_path}\")"
   ]
  },
  {
   "cell_type": "code",
   "execution_count": 6,
   "id": "fcb3758e",
   "metadata": {},
   "outputs": [],
   "source": [
    "df = pd.read_csv(file_path)\n",
    "\n",
    "df = df.dropna(subset = [\"text\", \"label\"]).copy()\n",
    "df[\"text\"] = df[\"text\"].astype(str)\n",
    "df[\"label\"] = df[\"label\"].astype(int)"
   ]
  },
  {
   "cell_type": "code",
   "execution_count": 7,
   "id": "aa1f8273",
   "metadata": {},
   "outputs": [],
   "source": [
    "X = df[\"text\"].tolist()\n",
    "y = df[\"label\"].tolist()"
   ]
  },
  {
   "cell_type": "code",
   "execution_count": 8,
   "id": "1a90a763",
   "metadata": {},
   "outputs": [],
   "source": [
    "y = [int(label) for label in y]\n",
    "assert set(y).issubset({0, 1}), f\"⚠️ Labels invalides détectés : {set(y)}\""
   ]
  },
  {
   "cell_type": "code",
   "execution_count": 9,
   "id": "a8693de8",
   "metadata": {},
   "outputs": [
    {
     "name": "stdout",
     "output_type": "stream",
     "text": [
      "<class 'pandas.core.frame.DataFrame'>\n",
      "Index: 99735 entries, 0 to 99999\n",
      "Data columns (total 3 columns):\n",
      " #   Column       Non-Null Count  Dtype \n",
      "---  ------       --------------  ----- \n",
      " 0   label        99735 non-null  int32 \n",
      " 1   text         99735 non-null  object\n",
      " 2   text_length  99735 non-null  int64 \n",
      "dtypes: int32(1), int64(1), object(1)\n",
      "memory usage: 2.7+ MB\n"
     ]
    }
   ],
   "source": [
    "df.info()"
   ]
  },
  {
   "cell_type": "markdown",
   "id": "12c01b58",
   "metadata": {},
   "source": [
    "# 3 - Découpage train / test"
   ]
  },
  {
   "cell_type": "code",
   "execution_count": 10,
   "id": "23b9f806",
   "metadata": {},
   "outputs": [],
   "source": [
    "X_train, X_test, y_train, y_test = train_test_split(X, y, stratify = y, test_size = 0.2, random_state = 70)"
   ]
  },
  {
   "cell_type": "markdown",
   "id": "1eb02c90",
   "metadata": {},
   "source": [
    "# 4 - Entraînement du modèle ELECTRA"
   ]
  },
  {
   "cell_type": "code",
   "execution_count": 11,
   "id": "82eff485",
   "metadata": {},
   "outputs": [],
   "source": [
    "model_dir = \"models/electra_model\""
   ]
  },
  {
   "cell_type": "code",
   "execution_count": 12,
   "id": "d1335a17",
   "metadata": {},
   "outputs": [
    {
     "name": "stdout",
     "output_type": "stream",
     "text": [
      "🧪 Fichiers attendus dans models/electra_model :\n",
      "   ✅ config.json\n",
      "   ✅ pytorch_model.bin\n",
      "   ✅ tokenizer_config.json\n",
      "   ✅ special_tokens_map.json\n",
      "   ✅ tokenizer.json\n",
      "\n",
      "🧠 model_files_ok = True / force_retrain = False\n",
      "\n",
      "✅ Chargement du modèle Electra depuis les artefacts sauvegardés.\n"
     ]
    }
   ],
   "source": [
    "model, tokenizer = train_electra_pipeline(\n",
    "    X_train = X_train,\n",
    "    y_train = y_train,\n",
    "    X_test = X_test,\n",
    "    y_test = y_test,\n",
    "    model_dir = model_dir,\n",
    "    force_retrain = False\n",
    ")"
   ]
  },
  {
   "cell_type": "code",
   "execution_count": 13,
   "id": "bc6695f6",
   "metadata": {},
   "outputs": [],
   "source": [
    "# model = ElectraForSequenceClassification.from_pretrained(\"models/electra_model\")\n",
    "# tokenizer = ElectraTokenizerFast.from_pretrained(\"models/electra_model\")\n",
    "# best_checkpoint = \"tmp_electra/checkpoint-14961\"\n",
    "\n",
    "# model = ElectraForSequenceClassification.from_pretrained(best_checkpoint)\n",
    "# tokenizer = ElectraTokenizerFast.from_pretrained(best_checkpoint)"
   ]
  },
  {
   "cell_type": "code",
   "execution_count": 14,
   "id": "af5dccc9",
   "metadata": {},
   "outputs": [
    {
     "name": "stdout",
     "output_type": "stream",
     "text": [
      "✅ Modèle et tokenizer Electra chargés depuis models/electra_model\n"
     ]
    }
   ],
   "source": [
    "model_dir = \"models/electra_model\"\n",
    "\n",
    "model = ElectraForSequenceClassification.from_pretrained(model_dir)\n",
    "tokenizer = ElectraTokenizerFast.from_pretrained(model_dir)\n",
    "\n",
    "print(\"✅ Modèle et tokenizer Electra chargés depuis models/electra_model\")"
   ]
  },
  {
   "cell_type": "code",
   "execution_count": 15,
   "id": "bd882bbd",
   "metadata": {},
   "outputs": [],
   "source": [
    "# # Sauvegarde manuelle dans le dossier définitif\n",
    "# model_dir = \"models/electra_model\"\n",
    "# os.makedirs(model_dir, exist_ok=True)\n",
    "# model.save_pretrained(model_dir)\n",
    "# tokenizer.save_pretrained(model_dir)"
   ]
  },
  {
   "cell_type": "code",
   "execution_count": 16,
   "id": "93c8ddd9",
   "metadata": {},
   "outputs": [
    {
     "name": "stdout",
     "output_type": "stream",
     "text": [
      "pytorch_model.bin exists: True\n"
     ]
    }
   ],
   "source": [
    "print(\"pytorch_model.bin exists:\",\n",
    "      os.path.exists(\"models/electra_model/pytorch_model.bin\"))"
   ]
  },
  {
   "cell_type": "code",
   "execution_count": 17,
   "id": "fc49c88e",
   "metadata": {},
   "outputs": [
    {
     "data": {
      "text/plain": [
       "True"
      ]
     },
     "execution_count": 17,
     "metadata": {},
     "output_type": "execute_result"
    }
   ],
   "source": [
    "from transformers import PreTrainedModel\n",
    "isinstance(model, PreTrainedModel)"
   ]
  },
  {
   "cell_type": "code",
   "execution_count": 18,
   "id": "4fe45ec9",
   "metadata": {},
   "outputs": [],
   "source": [
    "# Sauvegarde manuelle des artefacts si le fichier .bin n’a pas été généré\n",
    "# model.save_pretrained(\"models/electra_model\")\n",
    "# tokenizer.save_pretrained(\"models/electra_model\")\n",
    "\n",
    "# model.save_pretrained(\"models/electra_model\")\n",
    "# tokenizer.save_pretrained(\"models/electra_model\")"
   ]
  },
  {
   "cell_type": "markdown",
   "id": "177be1df",
   "metadata": {},
   "source": [
    "# 5 - Prédictions sur l’ensemble du test set (précis + GPU-aware)"
   ]
  },
  {
   "cell_type": "code",
   "execution_count": 19,
   "id": "d8d3c944",
   "metadata": {},
   "outputs": [
    {
     "name": "stderr",
     "output_type": "stream",
     "text": [
      "Xformers is not installed correctly. If you want to use memory_efficient_attention to accelerate training use the following command to install Xformers\n",
      "pip install xformers.\n"
     ]
    }
   ],
   "source": [
    "# pipe = TextClassificationPipeline(model = model, tokenizer = tokenizer, return_all_scores = False, device = 0 if torch.cuda.is_available() else -1)\n",
    "# y_pred = predict_with_electra(\n",
    "#     model = model,\n",
    "#     tokenizer = tokenizer,\n",
    "#     texts = X_test,\n",
    "#     device = device,\n",
    "#     return_dataframe = False\n",
    "# )\n",
    "y_pred = predict_with_electra(\n",
    "    model = model,\n",
    "    tokenizer = tokenizer,\n",
    "    texts = X_test,\n",
    "    device = 0 if torch.cuda.is_available() else -1,\n",
    "    return_dataframe = False\n",
    ")"
   ]
  },
  {
   "cell_type": "markdown",
   "id": "c076b259",
   "metadata": {},
   "source": [
    "# 6 - Évaluation centralisée (scores + matrice)"
   ]
  },
  {
   "cell_type": "code",
   "execution_count": 20,
   "id": "edb4fba2",
   "metadata": {},
   "outputs": [
    {
     "name": "stdout",
     "output_type": "stream",
     "text": [
      "📊 ELECTRA - Accuracy : 0.8216 | F1-score : 0.8188\n"
     ]
    },
    {
     "data": {
      "image/png": "[encoded data removed]",
      "text/plain": [
       "<Figure size 640x480 with 2 Axes>"
      ]
     },
     "metadata": {},
     "output_type": "display_data"
    }
   ],
   "source": [
    "scores = evaluate_classification_metrics(\n",
    "    y_true = y_test,\n",
    "    y_pred = y_pred,\n",
    "    model_name = \"ELECTRA\",\n",
    "    save_path = \"results/model_scores_logreg_vs_electra.csv\"\n",
    ")"
   ]
  },
  {
   "cell_type": "markdown",
   "id": "56f52e40",
   "metadata": {},
   "source": [
    "## 6.1 - Rapport détaillé (précision, rappel, F1 par classe)"
   ]
  },
  {
   "cell_type": "code",
   "execution_count": 21,
   "id": "e14b9df0",
   "metadata": {},
   "outputs": [
    {
     "name": "stdout",
     "output_type": "stream",
     "text": [
      "              precision    recall  f1-score   support\n",
      "\n",
      "     Négatif       0.81      0.84      0.82      9979\n",
      "     Positif       0.83      0.81      0.82      9968\n",
      "\n",
      "    accuracy                           0.82     19947\n",
      "   macro avg       0.82      0.82      0.82     19947\n",
      "weighted avg       0.82      0.82      0.82     19947\n",
      "\n"
     ]
    },
    {
     "data": {
      "text/plain": [
       "'              precision    recall  f1-score   support\\n\\n     Négatif       0.81      0.84      0.82      9979\\n     Positif       0.83      0.81      0.82      9968\\n\\n    accuracy                           0.82     19947\\n   macro avg       0.82      0.82      0.82     19947\\nweighted avg       0.82      0.82      0.82     19947\\n'"
      ]
     },
     "execution_count": 21,
     "metadata": {},
     "output_type": "execute_result"
    }
   ],
   "source": [
    "evaluate_model_predictions(\n",
    "    y_true = y_test,\n",
    "    y_pred = y_pred,\n",
    "    save_path = \"results/electra_classification_report.txt\"\n",
    ")"
   ]
  },
  {
   "cell_type": "code",
   "execution_count": 22,
   "id": "c54b931b",
   "metadata": {},
   "outputs": [
    {
     "data": {
      "image/png": "[encoded data removed]",
      "text/plain": [
       "<Figure size 640x480 with 2 Axes>"
      ]
     },
     "metadata": {},
     "output_type": "display_data"
    }
   ],
   "source": [
    "plot_confusion_matrix(\n",
    "    y_true = y_test,\n",
    "    y_pred = y_pred,\n",
    "    labels = [\"Négatif\", \"Positif\"],\n",
    "    title = \"Matrice de confusion - ELECTRA\"\n",
    ")"
   ]
  },
  {
   "cell_type": "markdown",
   "id": "bba3fdfb",
   "metadata": {},
   "source": [
    "# 7 - Prédictions sur 2000 tweets"
   ]
  },
  {
   "cell_type": "code",
   "execution_count": 23,
   "id": "c9bdfc79",
   "metadata": {},
   "outputs": [],
   "source": [
    "sample_preds = pd.DataFrame({\n",
    "    \"text\": X_test[:2000],\n",
    "    \"label\": y_test[:2000]\n",
    "})"
   ]
  },
  {
   "cell_type": "code",
   "execution_count": 24,
   "id": "a8d7ae62",
   "metadata": {},
   "outputs": [],
   "source": [
    "sample_preds[\"prediction\"] = predict_with_electra(\n",
    "    model = model,\n",
    "    tokenizer = tokenizer,\n",
    "    texts = sample_preds[\"text\"],\n",
    "    device = device,\n",
    "    return_dataframe = False\n",
    ")"
   ]
  },
  {
   "cell_type": "code",
   "execution_count": 25,
   "id": "4a65c142",
   "metadata": {},
   "outputs": [],
   "source": [
    "sample_preds.to_csv(\"results/electra_predictions_sample.csv\", index = False)"
   ]
  },
  {
   "cell_type": "markdown",
   "id": "a915bbb0",
   "metadata": {},
   "source": [
    "# 8 - Affichage graphique comparatif des modèles"
   ]
  },
  {
   "cell_type": "code",
   "execution_count": 26,
   "id": "36d33e4c",
   "metadata": {},
   "outputs": [
    {
     "data": {
      "image/png": "[encoded data removed]",
      "text/plain": [
       "<Figure size 1000x600 with 1 Axes>"
      ]
     },
     "metadata": {},
     "output_type": "display_data"
    }
   ],
   "source": [
    "# Chargement des scores\n",
    "results_path = \"results/model_scores_logreg_vs_electra.csv\"\n",
    "\n",
    "if os.path.exists(results_path):\n",
    "    df_scores = pd.read_csv(results_path)\n",
    "\n",
    "    # Création du graphique\n",
    "    plt.figure(figsize = (10, 6))\n",
    "    bars = plt.bar(df_scores[\"Modèle\"], df_scores[\"F1-score\"], edgecolor = \"black\", color = \"#69b3a2\")\n",
    "\n",
    "    # Ajout des scores sur les barres\n",
    "    for bar in bars:\n",
    "        height = bar.get_height()\n",
    "        plt.text(bar.get_x() + bar.get_width() / 2.0, height + 0.002, f\"{height:.3f}\",\n",
    "                 ha = 'center', va = 'bottom', fontsize = 10)\n",
    "\n",
    "    plt.title(\"Comparaison des F1-scores des modèles\", fontsize = 14)\n",
    "    plt.ylabel(\"F1-score\", fontsize = 12)\n",
    "    plt.ylim(0.75, 0.85)\n",
    "    plt.grid(axis = \"y\", linestyle = \"--\", alpha = 0.5)\n",
    "    plt.xticks(rotation = 15)\n",
    "    plt.tight_layout()\n",
    "    plt.show()\n",
    "else:\n",
    "    print(\"❌ Le fichier de résultats est introuvable :\", results_path)\n"
   ]
  }
 ],
 "metadata": {
  "kernelspec": {
   "display_name": "venv_P9_V2",
   "language": "python",
   "name": "python3"
  },
  "language_info": {
   "codemirror_mode": {
    "name": "ipython",
    "version": 3
   },
   "file_extension": ".py",
   "mimetype": "text/x-python",
   "name": "python",
   "nbconvert_exporter": "python",
   "pygments_lexer": "ipython3",
   "version": "3.10.11"
  }
 },
 "nbformat": 4,
 "nbformat_minor": 5
}
